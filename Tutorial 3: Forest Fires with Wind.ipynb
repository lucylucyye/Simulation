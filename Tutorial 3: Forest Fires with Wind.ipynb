{
 "cells": [
  {
   "cell_type": "markdown",
   "metadata": {},
   "source": [
    "# Wind effect on the fire spreading\n",
    "\n",
    "In this tutorial, we'll explore the effect of wind (both wind power and direction) on fire spreading."
   ]
  },
  {
   "cell_type": "markdown",
   "metadata": {},
   "source": [
    "##### Probabilistic Spreading considering the wind factor\n",
    "Building on our previous probabilistic model, we take wind into account in this model. To get a perfect forest fire spreading model, both wind power and wind direction and their interaction cannot be ignored. To consider the change of central cell (i, j) after a time period, we need to study the eight neighborhood cells’ impact on the central cell. \n",
    "\n",
    "In real fires, wind helps fuel the flames and cause the fire to grow, rarely having a dampening effect on the fire's growth. Below, we attempt to translate this phenomenon into our model.\n",
    "\n",
    "We start off by creating a 25 by 25 world and assume the whole forest is burnable."
   ]
  },
  {
   "cell_type": "code",
   "execution_count": 1,
   "metadata": {},
   "outputs": [],
   "source": [
    "import numpy as np\n",
    "import scipy as sp\n",
    "import scipy.sparse\n",
    "import matplotlib as mpl\n",
    "import matplotlib.pyplot as plt\n",
    "\n",
    "empty = 0\n",
    "unburned = 1\n",
    "burning = 2 \n",
    "burned = 3"
   ]
  },
  {
   "cell_type": "code",
   "execution_count": 2,
   "metadata": {},
   "outputs": [
    {
     "data": {
      "image/png": "[encoded data removed]",
      "text/plain": [
       "<Figure size 576x576 with 2 Axes>"
      ]
     },
     "metadata": {
      "needs_background": "light"
     },
     "output_type": "display_data"
    }
   ],
   "source": [
    "def create_world(n, q):\n",
    "    world = np.zeros((n+2, n+2))\n",
    "    forest = world[1:-1, 1:-1]\n",
    "    forest[:, :] = np.random.choice([0, 1], p=[1-q, q], size=(n, n))\n",
    "    return world\n",
    "\n",
    "def show_world(W, title=None, **args):\n",
    "    if 'cmap' not in args:\n",
    "        args['cmap'] = 'jet'\n",
    "    if 'vmin' not in args and 'vmax' not in args:\n",
    "        args['vmin'] = 0\n",
    "        args['vmax'] = 3\n",
    "    plt.figure(figsize=(8, 8))\n",
    "    plt.matshow(W, fignum=1, **args)\n",
    "    plt.xlabel('column')\n",
    "    plt.ylabel('row')\n",
    "    plt.colorbar()\n",
    "    if title is None:\n",
    "        num_trees = (W > 0).sum()\n",
    "        if num_trees > 0:\n",
    "            num_burnt = (W == 3).sum()\n",
    "            percent = num_burnt / num_trees * 1e2\n",
    "            title = '{} / {} ~= {:.1f}%'.format(num_burnt, num_trees, percent)\n",
    "        else:\n",
    "            title = ''\n",
    "    plt.title(title)\n",
    "    pass\n",
    "\n",
    "World = create_world(25, 1)\n",
    "show_world(World)"
   ]
  },
  {
   "cell_type": "code",
   "execution_count": 3,
   "metadata": {},
   "outputs": [
    {
     "name": "stdout",
     "output_type": "stream",
     "text": [
      "The world has dimensions: 25 x 25\n",
      "There are 625 cell(s) that have had vegetation in them\n",
      "There are 625 cell(s) of vegetation that are unburned\n",
      "There are 0 cell(s) of vegetation on fire\n",
      "There are 0 cell(s) of vegetation completely burned\n"
     ]
    }
   ],
   "source": [
    "def is_empty(W):\n",
    "    return W == empty\n",
    "\n",
    "def is_vegetation(W):\n",
    "    return W > empty\n",
    "\n",
    "def is_unburned(W):\n",
    "    return W == 1\n",
    "\n",
    "def is_burning(W):\n",
    "    return W == 2\n",
    "\n",
    "def is_burned(W):\n",
    "    return W == 3\n",
    "\n",
    "def count(W, cond_fun):\n",
    "    return cond_fun(W).sum()\n",
    "\n",
    "def summarize_world(W):\n",
    "    def suffix(n):\n",
    "        return (1, \"tree\") if n == 1 else (n, \"trees\")\n",
    "    m, n = W.shape[0]-2, W.shape[1]-2\n",
    "    n_trees = count(W, is_vegetation)\n",
    "    n_unburned = count(W, is_unburned)\n",
    "    n_burning = count(W, is_burning)\n",
    "    n_burned = count(W, is_burned)\n",
    "    \n",
    "    print(\"The world has dimensions: {} x {}\".format(m, n))\n",
    "    print(\"There are {} cell(s) that have had vegetation in them\".format(n_trees))\n",
    "    print(\"There are {} cell(s) of vegetation that are unburned\".format(n_unburned))\n",
    "    print(\"There are {} cell(s) of vegetation on fire\".format(n_burning))\n",
    "    print(\"There are {} cell(s) of vegetation completely burned\".format(n_burned))\n",
    "\n",
    "summarize_world(World)"
   ]
  },
  {
   "cell_type": "code",
   "execution_count": 4,
   "metadata": {},
   "outputs": [
    {
     "name": "stdout",
     "output_type": "stream",
     "text": [
      "The world has dimensions: 25 x 25\n",
      "There are 625 cell(s) that have had vegetation in them\n",
      "There are 624 cell(s) of vegetation that are unburned\n",
      "There are 1 cell(s) of vegetation on fire\n",
      "There are 0 cell(s) of vegetation completely burned\n"
     ]
    },
    {
     "data": {
      "image/png": "[encoded data removed]",
      "text/plain": [
       "<Figure size 576x576 with 2 Axes>"
      ]
     },
     "metadata": {
      "needs_background": "light"
     },
     "output_type": "display_data"
    }
   ],
   "source": [
    "# In order to show the effect of the wind direction on the fire spreading, we set the fire starting point as the middle point of the world\n",
    "\n",
    "def start_fire(W, m, cells=None):\n",
    "    # m is true for the middle point, false for the random point\n",
    "    W_new = W.copy()\n",
    "    if m == True:\n",
    "        middle = int(len(World)/2)\n",
    "        W_new[middle,middle]=2\n",
    "        return W_new\n",
    "    else:\n",
    "        if cells == None:\n",
    "            F = W[1:-1, 1:-1]\n",
    "            W_new = W.copy()\n",
    "            F_new = W_new[1:-1, 1:-1]\n",
    "            I, J = np.where(is_unburned(F)) # Positions of all trees\n",
    "            if len(I) > 0:\n",
    "                k = np.random.choice(range(len(I))) # Index of tree to ignite\n",
    "                i, j = I[k], J[k]\n",
    "                assert F_new[i, j] == 1, \"Attempting to ignite a non-tree?\"\n",
    "                F_new[i, j] += 1\n",
    "        else:\n",
    "            W_new = W.copy()\n",
    "\n",
    "            for x,y in cells:\n",
    "                W_new[x,y] = 2\n",
    "    \n",
    "    return W_new\n",
    "# Start a fire in the world, middle for True and random for False\n",
    "World_next = start_fire(World,True)\n",
    "show_world(World_next)\n",
    "summarize_world(World_next)"
   ]
  },
  {
   "cell_type": "markdown",
   "metadata": {},
   "source": [
    "### Wind factor\n",
    "Our wind factor can be decomposed into 2 parts: wind direction and wind power. We combine these two to create a new wind weight that translates to higher probabilities of ignition for cells downwind from a fire.\n",
    "\n",
    "Here, we have 8 directions for wind, and we assume the wind power is scaled greater than 1. Additionally, we assume the effect of the wind power on the fire spreading is linear.\n",
    "\n",
    "\n",
    "_Note:_ Wind direction in our model is the direction where wind blows to. e.g. N wind will affect the cell above the burning cell."
   ]
  },
  {
   "cell_type": "code",
   "execution_count": 5,
   "metadata": {},
   "outputs": [
    {
     "name": "stdout",
     "output_type": "stream",
     "text": [
      "The world has dimensions: 25 x 25\n",
      "There are 625 cell(s) that have had vegetation in them\n",
      "There are 621 cell(s) of vegetation that are unburned\n",
      "There are 3 cell(s) of vegetation on fire\n",
      "There are 1 cell(s) of vegetation completely burned\n"
     ]
    },
    {
     "data": {
      "image/png": "[encoded data removed]",
      "text/plain": [
       "<Figure size 576x576 with 2 Axes>"
      ]
     },
     "metadata": {
      "needs_background": "light"
     },
     "output_type": "display_data"
    }
   ],
   "source": [
    "# Probability of fire spread\n",
    "fire_spread_prob = 0.3\n",
    "\n",
    "def spread_fire(W, wind_dir, wind_power):\n",
    "    W_new = W.copy()\n",
    "    Vegetation = is_unburned(W)\n",
    "    Fires = is_burning(W)\n",
    "    \n",
    "    #identify the 8 neighbors of the burning cell\n",
    "    F1 = Fires[:-2, :-2]\n",
    "    F2 = Fires[1:-1, :-2]\n",
    "    F3 = Fires[2:, :-2]\n",
    "    F4 = Fires[:-2, 1:-1]\n",
    "    F5 = Fires[2:, 1:-1] \n",
    "    F6 = Fires[:-2, 2:]\n",
    "    F7 = Fires[1:-1, 2:]\n",
    "    F8 = Fires[2:, 2:]\n",
    "    \n",
    "    # Add the wind direction and wind power effect on the probabilibty\n",
    "    # There are 8 neighbors 1-8, and we consider 8 wind directions N S W E WN EN WS ES. \n",
    "    # Then assign different weights to the probability for all 8 neighbors of the cell\n",
    "    \n",
    "    if wind_dir =='S':\n",
    "        F4 = F4 *wind_power\n",
    "        F5 = F5 *0   \n",
    "    elif wind_dir =='N':\n",
    "        F5 = F5 *wind_power\n",
    "        F4 = F4 *0\n",
    "        \n",
    "    elif wind_dir =='W':\n",
    "        F7 = F7 *wind_power\n",
    "        F2 = F2 * 0    \n",
    "        \n",
    "    elif wind_dir =='E':\n",
    "        F2 = F2 *wind_power\n",
    "        F7 = F7 * 0 \n",
    "        \n",
    "    elif wind_dir =='SW':\n",
    "        F6 = F6 *wind_power\n",
    "        F3 = F3 *0\n",
    "    elif wind_dir =='SE':\n",
    "        F1 = F1 *wind_power\n",
    "        F8 = F8 *0\n",
    "        \n",
    "    elif wind_dir =='NW':\n",
    "        F8 = F8 *wind_power\n",
    "        F1 = F1 *0\n",
    "    elif wind_dir =='NE':\n",
    "        F3 = F3 *wind_power\n",
    "        F6 = F6 *0\n",
    "\n",
    "    # Spread fire to neighbors\n",
    "    # First count how many neighbors of a cell are on fire!\n",
    "    num_neighbors_on_fire = (F1 + F2+F3+ F4+ F5+ F6 + F7+ F8)\n",
    "\n",
    "    # If there's no vegetation at a certain spot, we don't want to calculate anything related to it's neighbors,\n",
    "    # so lets set those locations to zero\n",
    "    num_neighbors_on_fire = np.multiply(num_neighbors_on_fire, Vegetation[1:-1, 1:-1].astype(int))\n",
    "            \n",
    "    # Now calcualte the chance of each location doesn't catch fire at the next time-step.\n",
    "    # All probabilities start out as 1.0 - fire_spread_prob\n",
    "    fire_prob_matrix = np.ones(num_neighbors_on_fire.shape) - fire_spread_prob\n",
    "    \n",
    "    # Because each neighbor independently influences a cell, the total probability of not spreading is equal to\n",
    "    # the (probabilty of one neighbor not spreading) ^ (number of neighbors). Taking 1.0 - that value transforms the\n",
    "    # calculated probability to represent the: probability of the cell catching on fire due to any of the neighbors.\n",
    "    fire_prob_matrix = 1.0 - np.power(fire_prob_matrix, num_neighbors_on_fire) \n",
    "\n",
    "    # Again we don't care about a specific cell's value if there's no vegetation there, so we zero out\n",
    "    # the locations that don't have vegetation there!\n",
    "    fire_prob_matrix = np.multiply(fire_prob_matrix, Vegetation[1:-1, 1:-1].astype(int))\n",
    "    \n",
    "    # Now to use our probabiltiy matrix we've generated, we need to generate a matrix of all random \n",
    "    # values between 0.0 and 1.0, and compare if the random generated value is less than the probability of catching fire!\n",
    "    randys = np.random.rand(*fire_prob_matrix.shape)\n",
    "    new_on_fires = randys < fire_prob_matrix\n",
    "    \n",
    "    # Now we \"add\" one to each location that used to be \"unburned\" that now will be \"burning\" since the value for\n",
    "    # \"unburned\" is (1) and the value for \"burning\" is (2), this works out to transition our states perfectly!\n",
    "    W_new[1:-1, 1:-1] += new_on_fires\n",
    " \n",
    "    # We still want to extinguish current fires after one time-step, so let's go do that\n",
    "    W_new[1:-1, 1:-1] += Fires[1:-1, 1:-1]\n",
    "\n",
    "    # Aaaaand we're done!\n",
    "    return W_new\n",
    "\n",
    "# Spread one time-step of fire. Then show and summarize the world! \n",
    "# We can assign the wind direction'NW'and power 3 here.\n",
    "World_next = spread_fire(World_next,'NW',3)\n",
    "show_world(World_next)\n",
    "summarize_world(World_next)"
   ]
  },
  {
   "cell_type": "markdown",
   "metadata": {},
   "source": [
    "Then we pick a direction 'NW' and a wind power of 3 to confirm that the wind has large impact to the fire spreading. When running simulations, we can see that the left upper corner of the forest is almost on fire."
   ]
  },
  {
   "cell_type": "code",
   "execution_count": 6,
   "metadata": {},
   "outputs": [
    {
     "name": "stdout",
     "output_type": "stream",
     "text": [
      "The world has dimensions: 25 x 25\n",
      "There are 625 cell(s) that have had vegetation in them\n",
      "There are 435 cell(s) of vegetation that are unburned\n",
      "There are 36 cell(s) of vegetation on fire\n",
      "There are 154 cell(s) of vegetation completely burned\n"
     ]
    },
    {
     "data": {
      "image/png": "[encoded data removed]",
      "text/plain": [
       "<Figure size 576x576 with 2 Axes>"
      ]
     },
     "metadata": {
      "needs_background": "light"
     },
     "output_type": "display_data"
    }
   ],
   "source": [
    "for _ in range(10):\n",
    "    World_next = spread_fire(World_next,'NW',3)\n",
    "\n",
    "show_world(World_next)\n",
    "summarize_world(World_next)"
   ]
  },
  {
   "cell_type": "markdown",
   "metadata": {},
   "source": [
    "### Simulation\n",
    "\n",
    "Below, we run some Monte Carlo simulations as in the first couple of tutorials to see the effect of wind direction and wind speed on our fire's spread."
   ]
  },
  {
   "cell_type": "code",
   "execution_count": 7,
   "metadata": {},
   "outputs": [],
   "source": [
    "def simulate(W0, wind_dir,wind_power, t_max=None, inplace=False):\n",
    "    if t_max is None:\n",
    "        n_max = max(W0.shape)\n",
    "        t_max = n_max * ((2*n_max-1) // 2)\n",
    "    W = np.zeros((W0.shape[0], W0.shape[1], 2 if inplace else t_max+1))\n",
    "    t_cur = 0\n",
    "    W[:, :, t_cur] = W0\n",
    "    for t in range(t_max):\n",
    "        t_next = (t_cur+1)%2 if inplace else t+1\n",
    "        W[:, :, t_next] = spread_fire(W[:, :, t_cur],wind_dir,wind_power)\n",
    "        if (W[:, :, t_cur] == W[:, :, t_next]).all():\n",
    "            t_cur = t_next\n",
    "            break\n",
    "        t_cur = t_next\n",
    "    return (W[:, :, t_cur], t) if inplace else W[:, :, :t_cur+1]\n",
    "    \n",
    "def viz(W, t=0):\n",
    "    show_world(W[:, :, t])\n",
    "    plt.show()\n",
    "    print(\"At time {} (max={})...\".format(t, W.shape[2]-1))\n",
    "    summarize_world(W[:, :, t])\n",
    "    \n",
    "def run_simulation(n, q, wind_dir, wind_power, **args):\n",
    "    w = create_world(n, q)\n",
    "    # start the fire randomly in the forest\n",
    "    w = start_fire(w,False)\n",
    "    \n",
    "    return simulate(w, wind_dir,wind_power, **args)"
   ]
  },
  {
   "cell_type": "code",
   "execution_count": 8,
   "metadata": {},
   "outputs": [],
   "source": [
    "def simulate_many(n, q,trials, wind_dir, wind_power):\n",
    "    percent_burned = np.zeros(trials)\n",
    "    time_to_burn = np.zeros(trials)\n",
    "    for trial in range(trials):\n",
    "        W_last, t_last = run_simulation(n, q, wind_dir,wind_power,inplace=True)\n",
    "        n_trees = count(W_last, is_vegetation)\n",
    "        n_burnt = count(W_last, is_burned)\n",
    "        percent_burned[trial] = n_burnt / n_trees if n_trees > 0 else 0.0\n",
    "        time_to_burn[trial] = t_last\n",
    "    return percent_burned, time_to_burn"
   ]
  },
  {
   "cell_type": "markdown",
   "metadata": {},
   "source": [
    "### Wind direction analysis"
   ]
  },
  {
   "cell_type": "code",
   "execution_count": 9,
   "metadata": {},
   "outputs": [
    {
     "name": "stdout",
     "output_type": "stream",
     "text": [
      "Simulating wind direction:N...\n",
      "Simulating wind direction:S...\n",
      "Simulating wind direction:W...\n",
      "Simulating wind direction:E...\n",
      "Simulating wind direction:NW...\n",
      "Simulating wind direction:NE...\n",
      "Simulating wind direction:SW...\n",
      "Simulating wind direction:SE...\n"
     ]
    }
   ],
   "source": [
    "n_many = 25\n",
    "wind_dir = ['N','S', 'W', 'E', 'NW','NE','SW','SE']\n",
    "Percentages = np.zeros((len(wind_dir), 2))\n",
    "Times = np.zeros((len(wind_dir), 2))\n",
    "\n",
    "for k, w in enumerate(wind_dir):\n",
    "    print(\"Simulating wind direction:{}...\".format(w))\n",
    "    # iterate through wind_dir and set the wind power as constant 5\n",
    "    percentages, times = simulate_many(n_many, 1, 100, w, 5)\n",
    "    Percentages[k, :] = [percentages.mean(), percentages.std()]\n",
    "    Times[k, :] = [times.mean(), times.std()]\n",
    "    "
   ]
  },
  {
   "cell_type": "markdown",
   "metadata": {},
   "source": [
    "From the plot below, we observe that the fraction of trees burned varies among 8 wind directions. The directions of _NW, NE, SW, SE_ wind are less than _N, S, W, E_. This could be attributed to the format of our CA. For instance, in the row or column order directions of _N, S, W, E_, the wind is blowing along one of the axis of our 2d square world and thus has higher exposure to cells than going diagonally to one of the corners of our grid world."
   ]
  },
  {
   "cell_type": "code",
   "execution_count": 10,
   "metadata": {},
   "outputs": [
    {
     "data": {
      "image/png": "[encoded data removed]",
      "text/plain": [
       "<Figure size 576x216 with 1 Axes>"
      ]
     },
     "metadata": {
      "needs_background": "light"
     },
     "output_type": "display_data"
    }
   ],
   "source": [
    "plt.figure(figsize=(8, 3))\n",
    "plt.errorbar(wind_dir, Percentages[:, 0], yerr=Percentages[:, 1], fmt='o--', ecolor='black', elinewidth=0.75, capsize=2);\n",
    "plt.gca().axis('equal')\n",
    "plt.xlabel('Wind Direction');\n",
    "plt.title('Fraction of trees that burned ({}x{} domain)'.format(n_many, n_many));\n",
    "plt.grid()"
   ]
  },
  {
   "cell_type": "markdown",
   "metadata": {},
   "source": [
    "Below we can see the burning time of the different worlds. Although the diagonal directions appear to burn through the forest faster, they were also consistently burning less forest before going out as our plot above revealed and thus it make sense for these fires to take less time."
   ]
  },
  {
   "cell_type": "code",
   "execution_count": 11,
   "metadata": {},
   "outputs": [
    {
     "data": {
      "image/png": "[encoded data removed]",
      "text/plain": [
       "<Figure size 576x576 with 1 Axes>"
      ]
     },
     "metadata": {
      "needs_background": "light"
     },
     "output_type": "display_data"
    }
   ],
   "source": [
    "plt.figure(figsize=(8, 8))\n",
    "Z = 1 \n",
    "plt.errorbar(wind_dir, Times[:, 0]/Z, yerr=Times[:, 1]/Z,\n",
    "             fmt='o--', ecolor='black', elinewidth=0.75, capsize=2);\n",
    "plt.xlabel('Wind Direction');\n",
    "plt.title('Burning time ({}x{} domain)'.format(n_many, n_many));\n",
    "plt.grid()"
   ]
  },
  {
   "cell_type": "markdown",
   "metadata": {},
   "source": [
    "### Wind Power Analysis\n",
    "\n",
    "Here we want to see how the wind power will affect the fire spreading. We set the wind direction as 'N' for testing."
   ]
  },
  {
   "cell_type": "code",
   "execution_count": 12,
   "metadata": {},
   "outputs": [
    {
     "name": "stdout",
     "output_type": "stream",
     "text": [
      "Simulating wind direction:1.0...\n",
      "Simulating wind direction:2.0...\n",
      "Simulating wind direction:3.0...\n",
      "Simulating wind direction:4.0...\n",
      "Simulating wind direction:5.0...\n",
      "Simulating wind direction:6.0...\n",
      "Simulating wind direction:7.0...\n",
      "Simulating wind direction:8.0...\n",
      "Simulating wind direction:9.0...\n",
      "Simulating wind direction:10.0...\n"
     ]
    }
   ],
   "source": [
    "n_many = 25\n",
    "wind_power = np.linspace(1, 10, 10)\n",
    "Percentages = np.zeros((len(wind_power), 2))\n",
    "Times = np.zeros((len(wind_power), 2))\n",
    "\n",
    "for k, w in enumerate(wind_power):\n",
    "    print(\"Simulating wind direction:{}...\".format(w))\n",
    "    # iterate through wind power and set the wind direction as 'N'\n",
    "    percentages, times = simulate_many(n_many, 1, 100, 'N', w)\n",
    "    Percentages[k, :] = [percentages.mean(), percentages.std()]\n",
    "    Times[k, :] = [times.mean(), times.std()]"
   ]
  },
  {
   "cell_type": "markdown",
   "metadata": {},
   "source": [
    "From the plot, we can see that higher wind power will contribute to a higher fraction of the forest being burned."
   ]
  },
  {
   "cell_type": "code",
   "execution_count": 13,
   "metadata": {},
   "outputs": [
    {
     "data": {
      "image/png": "[encoded data removed]",
      "text/plain": [
       "<Figure size 720x216 with 1 Axes>"
      ]
     },
     "metadata": {
      "needs_background": "light"
     },
     "output_type": "display_data"
    }
   ],
   "source": [
    "plt.figure(figsize=(10, 3))\n",
    "plt.errorbar(wind_power, Percentages[:, 0], yerr=Percentages[:, 1], fmt='o--', ecolor='black', elinewidth=0.75, capsize=2);\n",
    "plt.gca().axis('equal')\n",
    "plt.xlabel('Wind Power');\n",
    "plt.title('Fraction of trees that burned ({}x{} domain)'.format(n_many, n_many));\n",
    "plt.grid()"
   ]
  },
  {
   "cell_type": "code",
   "execution_count": null,
   "metadata": {},
   "outputs": [],
   "source": []
  }
 ],
 "metadata": {
  "kernelspec": {
   "display_name": "Python 3",
   "language": "python",
   "name": "python3"
  },
  "language_info": {
   "codemirror_mode": {
    "name": "ipython",
    "version": 3
   },
   "file_extension": ".py",
   "mimetype": "text/x-python",
   "name": "python",
   "nbconvert_exporter": "python",
   "pygments_lexer": "ipython3",
   "version": "3.7.0"
  }
 },
 "nbformat": 4,
 "nbformat_minor": 2
}
